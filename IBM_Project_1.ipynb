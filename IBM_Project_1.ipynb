{
  "metadata": {
    "kernelspec": {
      "name": "python",
      "display_name": "Python (Pyodide)",
      "language": "python"
    },
    "language_info": {
      "codemirror_mode": {
        "name": "python",
        "version": 3
      },
      "file_extension": ".py",
      "mimetype": "text/x-python",
      "name": "python",
      "nbconvert_exporter": "python",
      "pygments_lexer": "ipython3",
      "version": "3.8"
    }
  },
  "nbformat_minor": 5,
  "nbformat": 4,
  "cells": [
    {
      "id": "db06ed45-3b9d-4757-926e-556f5fd713e0",
      "cell_type": "markdown",
      "source": "# Data Science Project\n",
      "metadata": {}
    },
    {
      "id": "9e373a53-05ea-4862-9027-9a9f66410619",
      "cell_type": "markdown",
      "source": "## Introduction\nThis notebook presents an overview of various data science tools and techniques.\n",
      "metadata": {}
    },
    {
      "id": "1388249e-3891-4680-b459-bcb6ce124e73",
      "cell_type": "markdown",
      "source": "## Languages Used in Data Science\n- Python\n- R\n- SQL\n- Julia",
      "metadata": {}
    },
    {
      "id": "b3e18d9a-c795-4c34-a5f2-3db6b0a5d3d8",
      "cell_type": "markdown",
      "source": "## Data Science Libraries\n- NumPy\n- Pandas\n- Matplotlib\n- Scikit-learn\n- TensorFlow",
      "metadata": {}
    },
    {
      "id": "f38bd06d-fd13-4e83-b7e8-6a10303463e9",
      "cell_type": "markdown",
      "source": "## Data Science Tools\n| Tool      | Purpose                     |\n|-----------|-----------------------------|\n| Jupyter   | Notebooks for code & text    |\n| Pandas    | Data manipulation and analysis|\n| TensorFlow| Machine learning framework   |\n| Plotly    | Interactive visualization    |\n",
      "metadata": {}
    },
    {
      "id": "974809b3-7e4c-4aa8-b109-796f7509deda",
      "cell_type": "markdown",
      "source": "## Examples of Arithmetic Expressions\n- Addition: 5 + 3\n- Subtraction: 10 - 4\n- Multiplication: 7 * 2\n- Division: 20 / 5",
      "metadata": {}
    },
    {
      "id": "33362421-027a-4389-ad3f-3317611ac972",
      "cell_type": "code",
      "source": "\nx = 5\ny = 3\nmultiplication = x * y\naddition = x + y\nmultiplication, addition\n",
      "metadata": {
        "trusted": true
      },
      "outputs": [
        {
          "execution_count": 11,
          "output_type": "execute_result",
          "data": {
            "text/plain": "(15, 8)"
          },
          "metadata": {}
        }
      ],
      "execution_count": 11
    },
    {
      "id": "cb5c2cbe-3b09-42e8-8aa2-3524296d028f",
      "cell_type": "code",
      "source": "\nminutes = 120\nhours = minutes / 60\nhours\n",
      "metadata": {
        "trusted": true
      },
      "outputs": [
        {
          "execution_count": 12,
          "output_type": "execute_result",
          "data": {
            "text/plain": "2.0"
          },
          "metadata": {}
        }
      ],
      "execution_count": 12
    },
    {
      "id": "57b5493e-4750-4a43-8fb1-0643153b19db",
      "cell_type": "markdown",
      "source": "## Objectives\n- Learn about the tools used in data science.\n- Perform basic arithmetic and data manipulation.\n- Convert time units in Python.\n",
      "metadata": {}
    },
    {
      "id": "84ff89d1-55c4-4ed8-81f2-0ff645d664b6",
      "cell_type": "markdown",
      "source": "## Author\n- Yoann\n",
      "metadata": {}
    },
    {
      "id": "c0309d58-cef6-45b7-9257-b79551de3d96",
      "cell_type": "code",
      "source": "",
      "metadata": {
        "trusted": true
      },
      "outputs": [],
      "execution_count": null
    }
  ]
}